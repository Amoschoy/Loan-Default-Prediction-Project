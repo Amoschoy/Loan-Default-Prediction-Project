{
 "cells": [
  {
   "cell_type": "markdown",
   "id": "833e85df",
   "metadata": {},
   "source": [
    "# Predictions on whether a loan applicant might default"
   ]
  },
  {
   "cell_type": "code",
   "execution_count": null,
   "id": "2db6595d-746a-4e21-84c7-f645547c2b47",
   "metadata": {},
   "outputs": [],
   "source": [
    "import pandas as pd\n",
    "from sklearn.linear_model import LogisticRegression\n",
    "from sklearn.model_selection import train_test_split\n",
    "from sklearn import metrics\n",
    "\n",
    "import warnings\n",
    "warnings.filterwarnings(\"ignore\")"
   ]
  },
  {
   "cell_type": "markdown",
   "id": "aafcdea8",
   "metadata": {},
   "source": [
    "## Exploring the dataset"
   ]
  },
  {
   "cell_type": "code",
   "execution_count": null,
   "id": "0507e2d3",
   "metadata": {
    "scrolled": true
   },
   "outputs": [],
   "source": [
    "import pandas as pd\n",
    "\n",
    "train_df = pd.read_csv(\"lc_trainingset.csv\")\n",
    "test_df = pd.read_csv(\"lc_testset.csv\")\n",
    "\n",
    "train_df"
   ]
  },
  {
   "cell_type": "code",
   "execution_count": null,
   "id": "db57e167",
   "metadata": {},
   "outputs": [],
   "source": [
    "print(train_df.shape)\n",
    "print(test_df.shape)"
   ]
  },
  {
   "cell_type": "markdown",
   "id": "6d61c2d8",
   "metadata": {},
   "source": [
    "## Explore loan_status in train_df"
   ]
  },
  {
   "cell_type": "code",
   "execution_count": null,
   "id": "a6047610",
   "metadata": {},
   "outputs": [],
   "source": [
    "train_df['loan_status'].value_counts()"
   ]
  },
  {
   "cell_type": "code",
   "execution_count": null,
   "id": "de99adad",
   "metadata": {},
   "outputs": [],
   "source": [
    "import plotly.express as px\n",
    "\n",
    "fig = px.bar(train_df['loan_status'].value_counts(), width=800, height=500)\n",
    "fig.show()"
   ]
  },
  {
   "cell_type": "markdown",
   "id": "de318e51",
   "metadata": {},
   "source": [
    "## Relabelling the Loan Status"
   ]
  },
  {
   "cell_type": "code",
   "execution_count": null,
   "id": "d8c83702",
   "metadata": {
    "scrolled": true
   },
   "outputs": [],
   "source": [
    "def change_loan_status(loan_status):\n",
    "    if loan_status in ['Fully Paid', 'Current']:\n",
    "        return 0\n",
    "    else:\n",
    "        return 1\n",
    "\n",
    "train_df['loan_status'] = train_df['loan_status'].apply(change_loan_status)\n",
    "train_df.head(20)"
   ]
  },
  {
   "cell_type": "code",
   "execution_count": null,
   "id": "36e0976c",
   "metadata": {},
   "outputs": [],
   "source": [
    "train_df['loan_status'].value_counts()"
   ]
  },
  {
   "cell_type": "code",
   "execution_count": null,
   "id": "58948da4-628d-4def-b1ba-a57e70afcaa2",
   "metadata": {},
   "outputs": [],
   "source": [
    "threshold = 0.3\n",
    "\n",
    "train_df['mort_acc'] = train_df['mort_acc'].fillna(train_df['mort_acc'].mode()[0])\n",
    "train_df['pub_rec_bankruptcies'] = train_df['pub_rec_bankruptcies'].fillna(train_df['pub_rec_bankruptcies'].mode()[0])\n",
    "train_df['emp_length'] = train_df['emp_length'].fillna(train_df['emp_length'].mode()[0])\n",
    "train_df['revol_util'] = train_df['revol_util'].fillna(train_df['revol_util'].median())\n",
    "print(train_df.isnull().sum())\n",
    "# train_df"
   ]
  },
  {
   "cell_type": "markdown",
   "id": "710abef7",
   "metadata": {},
   "source": [
    "# Exploratory Data Analysis"
   ]
  },
  {
   "cell_type": "code",
   "execution_count": null,
   "id": "c860a2c5-7e69-47dc-ae21-736867168755",
   "metadata": {},
   "outputs": [],
   "source": [
    "import plotly.express as px\n",
    "\n",
    "fig = px.scatter_matrix(train_df,\n",
    "                        dimensions=['loan_amnt', 'term', 'int_rate', 'revol_util', 'home_ownership', 'emp_length'],\n",
    "                        color=\"loan_status\")\n",
    "\n",
    "fig.update_traces(diagonal_visible=False)\n",
    "\n",
    "fig.update_traces(marker=dict(size=5,colorscale='Bluered',line=dict(width=0.5,color='rgb(230,230,230)')))\n",
    "\n",
    "fig.update_layout(title=\"Scatterplot Matrix for LendingClub Dataset\",\n",
    "                  dragmode='select',\n",
    "                  width=1000,\n",
    "                  height=1000)\n",
    "\n",
    "fig.show()"
   ]
  },
  {
   "cell_type": "markdown",
   "id": "b0b38e41",
   "metadata": {},
   "source": [
    "# Feature Engineering"
   ]
  },
  {
   "cell_type": "code",
   "execution_count": null,
   "id": "72762b85-b5c2-4922-9724-76db14414508",
   "metadata": {},
   "outputs": [],
   "source": [
    "import re\n",
    "from sklearn.preprocessing import LabelEncoder\n",
    "\n",
    "upper_lim = train_df['loan_amnt'].quantile(.95)\n",
    "lower_lim = train_df['loan_amnt'].quantile(.05)\n",
    "\n",
    "train_df = train_df[(train_df['loan_amnt'] < upper_lim) & (train_df['loan_amnt'] > lower_lim)]\n",
    "train_df\n",
    "\n",
    "train_df['loan_amnt'] = (train_df['loan_amnt'] - train_df['loan_amnt'].min()) /(train_df['loan_amnt'].max() - train_df['loan_amnt'].min())\n",
    "train_df\n",
    "\n",
    "\n",
    "\n",
    "label_encoder = LabelEncoder()\n",
    "# Sieve out the columns which we want to apply label encoding on\n",
    "train_df['grade'] = label_encoder.fit_transform(train_df['grade'])\n",
    "train_df['initial_list_status'] = label_encoder.fit_transform(train_df['initial_list_status'])\n",
    "train_df['application_type'] = label_encoder.fit_transform(train_df['application_type'])\n",
    "\n",
    "train_df['postal_code'] = train_df['address'].str.extract(r'(\\d{5})$').astype(int)\n",
    "\n",
    "\n",
    "ownership_OH_encoding = pd.get_dummies(train_df['home_ownership']).drop(columns=['NONE','ANY','OTHER'])\n",
    "train_df = pd.concat([train_df, ownership_OH_encoding], axis=1)\n",
    "\n",
    "verification_OH_encoding = pd.get_dummies(train_df['verification_status'])\n",
    "train_df = pd.concat([train_df, verification_OH_encoding], axis=1)\n",
    "\n",
    "\n",
    "pattern = r\"(\\d+)\"\n",
    "train_df['emp_length'] = train_df['emp_length'].str.extract(pattern).astype(int)\n",
    "train_df.head(10)"
   ]
  },
  {
   "cell_type": "markdown",
   "id": "3d6b9c68",
   "metadata": {},
   "source": [
    "# Model Building and Model Evaluation"
   ]
  },
  {
   "cell_type": "code",
   "execution_count": null,
   "id": "50415527",
   "metadata": {},
   "outputs": [],
   "source": [
    "from xgboost import XGBClassifier\n",
    "\n",
    "features = ['postal_code', 'int_rate', 'loan_amnt','installment', 'annual_inc', 'MORTGAGE', 'OWN', 'RENT', 'emp_length', 'pub_rec_bankruptcies', 'open_acc', 'dti', 'revol_bal', 'Not Verified', 'grade', 'initial_list_status', 'application_type']\n",
    "X = train_df[features]\n",
    "y = train_df['loan_status']\n",
    "\n",
    "X_train, X_test, y_train, y_test = train_test_split(X, y, test_size=0.30, random_state=5)\n",
    "\n",
    "\n",
    "# Instantiate the model object\n",
    "model = XGBClassifier(learning_rate=0.1, random_state=5)\n",
    "\n",
    "# Fit the model with the training data\n",
    "model.fit(X_train, y_train)\n",
    "\n",
    "# predict the target on the test dataset\n",
    "y_predict = model.predict(X_test)\n",
    "print('\\nPrediction on test data', y_predict) \n",
    "\n",
    "# Accuracy Score on test dataset\n",
    "accuracy_test = metrics.accuracy_score(y_test, y_predict)\n",
    "print('\\nAccuracy_score on test dataset : ', accuracy_test)"
   ]
  },
  {
   "cell_type": "markdown",
   "id": "21ae3bd0",
   "metadata": {},
   "source": [
    "# Generate and Export Predictions from your Final Model\n",
    "\n",
    "## Re-fit your final model on lc_trainingset.csv"
   ]
  },
  {
   "cell_type": "code",
   "execution_count": null,
   "id": "0d3116a8",
   "metadata": {},
   "outputs": [],
   "source": [
    "X = train_df[['postal_code', 'int_rate', 'loan_amnt','installment', 'annual_inc', 'MORTGAGE', 'OWN', 'RENT', 'emp_length', 'pub_rec_bankruptcies', 'open_acc', 'dti', 'revol_bal', 'Not Verified', 'grade', 'initial_list_status', 'application_type']] # Suppose these are your final selected features\n",
    "y = train_df['loan_status']\n",
    "\n",
    "print(len(X))\n",
    "print(len(y))\n",
    "\n",
    "model = XGBClassifier(learning_rate=0.1, random_state=5)\n",
    "model.fit(X, y)"
   ]
  },
  {
   "cell_type": "markdown",
   "id": "a2ab4941",
   "metadata": {},
   "source": [
    "## Generate predictions for the test_df"
   ]
  },
  {
   "cell_type": "code",
   "execution_count": null,
   "id": "9fe88645-d671-4970-be93-fa8732ce54cd",
   "metadata": {},
   "outputs": [],
   "source": [
    "# Replicate the feature engineering you did to the train_df\n",
    "\n",
    "label_encoder = LabelEncoder()\n",
    "# Sieve out the columns which we want to apply label encoding on\n",
    "test_df['grade'] = label_encoder.fit_transform(test_df['grade'])\n",
    "test_df['initial_list_status'] = label_encoder.fit_transform(test_df['initial_list_status'])\n",
    "test_df['application_type'] = label_encoder.fit_transform(test_df['application_type'])\n",
    "\n",
    "test_ownership_OH_encoding = pd.get_dummies(test_df['home_ownership']).drop(columns=['NONE','ANY','OTHER'])\n",
    "test_df = pd.concat([test_df, test_ownership_OH_encoding], axis=1)\n",
    "verify_ownership_OH_encoding = pd.get_dummies(test_df['verification_status'])\n",
    "test_df = pd.concat([test_df, verify_ownership_OH_encoding], axis=1)\n",
    "# test_df.head()\n",
    "\n",
    "test_df['mort_acc'] = test_df['mort_acc'].fillna(test_df['mort_acc'].mode()[0])\n",
    "test_df['pub_rec_bankruptcies'] = test_df['pub_rec_bankruptcies'].fillna(test_df['pub_rec_bankruptcies'].mode()[0])\n",
    "test_df['emp_length'] = test_df['emp_length'].fillna(test_df['emp_length'].mode()[0])\n",
    "test_df['revol_util'] = test_df['revol_util'].fillna(test_df['revol_util'].median())\n",
    "\n",
    "test_df['postal_code'] = test_df['address'].str.extract(r'(\\d{5})$').astype(int)\n",
    "\n",
    "pattern = r\"(\\d+)\"\n",
    "test_df['emp_length'] = test_df['emp_length'].str.extract(pattern).astype(int)\n",
    "test_df.head()\n",
    "\n",
    "print(test_df.shape)"
   ]
  },
  {
   "cell_type": "code",
   "execution_count": null,
   "id": "57bf9092-73c0-4555-a020-f08b418cc1b8",
   "metadata": {},
   "outputs": [],
   "source": [
    "kaggle_x = test_df[['postal_code', 'int_rate', 'loan_amnt','installment', 'annual_inc', 'MORTGAGE', 'OWN', 'RENT', 'emp_length', 'pub_rec_bankruptcies', 'open_acc', 'dti', 'revol_bal', 'Not Verified', 'grade', 'initial_list_status', 'application_type']] # Extract same features used for model training\n",
    "probabilities = model.predict_proba(kaggle_x) # Use your final model here\n",
    "probabilities"
   ]
  },
  {
   "cell_type": "code",
   "execution_count": null,
   "id": "f3952dd4-38c3-4d7c-ab40-75f231fc2384",
   "metadata": {},
   "outputs": [],
   "source": [
    "kaggle_preds = probabilities[:,1]  # Extract probabilities from the rightmost column\n",
    "len(kaggle_preds)                  # Output should be 78237"
   ]
  },
  {
   "cell_type": "markdown",
   "id": "6f998967",
   "metadata": {},
   "source": [
    "Make use of the <code>.to_csv()</code> function to output your predictions in the form of a csv, which will be the format you will be required to submit to Kaggle."
   ]
  },
  {
   "cell_type": "code",
   "execution_count": null,
   "id": "dee19198",
   "metadata": {},
   "outputs": [],
   "source": [
    "predictions_df = pd.DataFrame({\n",
    "    'Id': test_df['id'],\n",
    "    'Predicted': kaggle_preds\n",
    "})\n",
    "predictions_df.to_csv('my_predictions.csv', index=False) "
   ]
  }
 ],
 "metadata": {
  "kernelspec": {
   "display_name": "Python 3 (ipykernel)",
   "language": "python",
   "name": "python3"
  },
  "language_info": {
   "codemirror_mode": {
    "name": "ipython",
    "version": 3
   },
   "file_extension": ".py",
   "mimetype": "text/x-python",
   "name": "python",
   "nbconvert_exporter": "python",
   "pygments_lexer": "ipython3",
   "version": "3.9.12"
  }
 },
 "nbformat": 4,
 "nbformat_minor": 5
}
